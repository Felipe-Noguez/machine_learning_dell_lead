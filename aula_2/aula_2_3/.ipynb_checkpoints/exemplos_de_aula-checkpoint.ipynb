{
 "cells": [
  {
   "cell_type": "code",
   "execution_count": 33,
   "metadata": {},
   "outputs": [
    {
     "name": "stdout",
     "output_type": "stream",
     "text": [
      "sucesso\n"
     ]
    }
   ],
   "source": [
    "import pandas as pd\n",
    "from sklearn.neighbors import KNeighborsClassifier\n",
    "from sklearn.model_selection import train_test_split\n",
    "from sklearn.preprocessing import MinMaxScaler\n",
    "#import matplotlib.pyplot as plt\n",
    "#%matplotlib \n",
    "print('sucesso')"
   ]
  },
  {
   "cell_type": "markdown",
   "metadata": {},
   "source": [
    "# KNN para Classificação"
   ]
  },
  {
   "cell_type": "code",
   "execution_count": 3,
   "metadata": {},
   "outputs": [
    {
     "data": {
      "text/plain": [
       "-3"
      ]
     },
     "execution_count": 3,
     "metadata": {},
     "output_type": "execute_result"
    }
   ],
   "source": [
    "#Disntância Euclidiana\n",
    "#calculando distância entre 2 e 5, desta forma, uma distancia negativa, \n",
    "#isso não reflete uma distância real\n",
    "2 - 5"
   ]
  },
  {
   "cell_type": "code",
   "execution_count": 6,
   "metadata": {},
   "outputs": [
    {
     "data": {
      "text/plain": [
       "3.0"
      ]
     },
     "execution_count": 6,
     "metadata": {},
     "output_type": "execute_result"
    }
   ],
   "source": [
    "#desta forma, elevamos ao quadrado e por fim calculamos a raiz quadrada, \n",
    "#assim temos um resultado de distância positivo\n",
    "((2-5)**2)**(0.5)"
   ]
  },
  {
   "cell_type": "code",
   "execution_count": 7,
   "metadata": {},
   "outputs": [],
   "source": [
    "#efetuando calculo para dois valores\n",
    "#massa e cor, respectivamente (para duas frutas, a e b)\n",
    "a = [5, 0.75]\n",
    "b = [2, 0.50]"
   ]
  },
  {
   "cell_type": "code",
   "execution_count": 11,
   "metadata": {},
   "outputs": [
    {
     "data": {
      "text/plain": [
       "3.010398644698074"
      ]
     },
     "execution_count": 11,
     "metadata": {},
     "output_type": "execute_result"
    }
   ],
   "source": [
    "#mensurar a distancia entre as duas frutas com as duas coordenadas, massa e cor\n",
    "(((a[0]-b[0])**2) + ((a[1]-b[1])**2))**0.5"
   ]
  },
  {
   "cell_type": "code",
   "execution_count": 13,
   "metadata": {},
   "outputs": [],
   "source": [
    "#n_neighbors serve para informar que cada novo elemento será comparado\n",
    "#aos 3 vizinhos mais próximos à ele\n",
    "#criando a instância\n",
    "knn = KNeighborsClassifier(n_neighbors=3)"
   ]
  },
  {
   "cell_type": "code",
   "execution_count": 14,
   "metadata": {},
   "outputs": [],
   "source": [
    "data = pd.read_table('fruit_data_with_colors.txt')"
   ]
  },
  {
   "cell_type": "code",
   "execution_count": 15,
   "metadata": {},
   "outputs": [
    {
     "data": {
      "text/html": [
       "<div>\n",
       "<style scoped>\n",
       "    .dataframe tbody tr th:only-of-type {\n",
       "        vertical-align: middle;\n",
       "    }\n",
       "\n",
       "    .dataframe tbody tr th {\n",
       "        vertical-align: top;\n",
       "    }\n",
       "\n",
       "    .dataframe thead th {\n",
       "        text-align: right;\n",
       "    }\n",
       "</style>\n",
       "<table border=\"1\" class=\"dataframe\">\n",
       "  <thead>\n",
       "    <tr style=\"text-align: right;\">\n",
       "      <th></th>\n",
       "      <th>fruit_label</th>\n",
       "      <th>fruit_name</th>\n",
       "      <th>fruit_subtype</th>\n",
       "      <th>mass</th>\n",
       "      <th>width</th>\n",
       "      <th>height</th>\n",
       "      <th>color_score</th>\n",
       "    </tr>\n",
       "  </thead>\n",
       "  <tbody>\n",
       "    <tr>\n",
       "      <th>0</th>\n",
       "      <td>1</td>\n",
       "      <td>apple</td>\n",
       "      <td>granny_smith</td>\n",
       "      <td>192</td>\n",
       "      <td>8.4</td>\n",
       "      <td>7.3</td>\n",
       "      <td>0.55</td>\n",
       "    </tr>\n",
       "    <tr>\n",
       "      <th>1</th>\n",
       "      <td>1</td>\n",
       "      <td>apple</td>\n",
       "      <td>granny_smith</td>\n",
       "      <td>180</td>\n",
       "      <td>8.0</td>\n",
       "      <td>6.8</td>\n",
       "      <td>0.59</td>\n",
       "    </tr>\n",
       "    <tr>\n",
       "      <th>2</th>\n",
       "      <td>1</td>\n",
       "      <td>apple</td>\n",
       "      <td>granny_smith</td>\n",
       "      <td>176</td>\n",
       "      <td>7.4</td>\n",
       "      <td>7.2</td>\n",
       "      <td>0.60</td>\n",
       "    </tr>\n",
       "    <tr>\n",
       "      <th>3</th>\n",
       "      <td>2</td>\n",
       "      <td>mandarin</td>\n",
       "      <td>mandarin</td>\n",
       "      <td>86</td>\n",
       "      <td>6.2</td>\n",
       "      <td>4.7</td>\n",
       "      <td>0.80</td>\n",
       "    </tr>\n",
       "    <tr>\n",
       "      <th>4</th>\n",
       "      <td>2</td>\n",
       "      <td>mandarin</td>\n",
       "      <td>mandarin</td>\n",
       "      <td>84</td>\n",
       "      <td>6.0</td>\n",
       "      <td>4.6</td>\n",
       "      <td>0.79</td>\n",
       "    </tr>\n",
       "  </tbody>\n",
       "</table>\n",
       "</div>"
      ],
      "text/plain": [
       "   fruit_label fruit_name fruit_subtype  mass  width  height  color_score\n",
       "0            1      apple  granny_smith   192    8.4     7.3         0.55\n",
       "1            1      apple  granny_smith   180    8.0     6.8         0.59\n",
       "2            1      apple  granny_smith   176    7.4     7.2         0.60\n",
       "3            2   mandarin      mandarin    86    6.2     4.7         0.80\n",
       "4            2   mandarin      mandarin    84    6.0     4.6         0.79"
      ]
     },
     "execution_count": 15,
     "metadata": {},
     "output_type": "execute_result"
    }
   ],
   "source": [
    "data.head()"
   ]
  },
  {
   "cell_type": "code",
   "execution_count": 29,
   "metadata": {},
   "outputs": [],
   "source": [
    "#é utilizado o X maiusculo, pois na matemática é utilizado desta forma para\n",
    "#representar matrizes e y minusculo, pois é um vetor de rótulos\n",
    "X = data[['mass', 'height', 'width', 'color_score']]\n",
    "y = data['fruit_label']"
   ]
  },
  {
   "cell_type": "code",
   "execution_count": 30,
   "metadata": {},
   "outputs": [],
   "source": [
    "X_train, X_test, y_train, y_test = train_test_split(X,y)"
   ]
  },
  {
   "cell_type": "code",
   "execution_count": 31,
   "metadata": {},
   "outputs": [
    {
     "data": {
      "text/plain": [
       "KNeighborsClassifier(n_neighbors=3)"
      ]
     },
     "execution_count": 31,
     "metadata": {},
     "output_type": "execute_result"
    }
   ],
   "source": [
    "knn.fit(X_train, y_train)"
   ]
  },
  {
   "cell_type": "code",
   "execution_count": 32,
   "metadata": {},
   "outputs": [
    {
     "data": {
      "text/plain": [
       "0.5333333333333333"
      ]
     },
     "execution_count": 32,
     "metadata": {},
     "output_type": "execute_result"
    }
   ],
   "source": [
    "knn.score(X_test, y_test)"
   ]
  },
  {
   "cell_type": "code",
   "execution_count": 34,
   "metadata": {},
   "outputs": [],
   "source": [
    "#instanciando\n",
    "mm = MinMaxScaler()"
   ]
  },
  {
   "cell_type": "code",
   "execution_count": 35,
   "metadata": {},
   "outputs": [],
   "source": [
    "#transformando os dados entre 0 e 1\n",
    "X_train = mm.fit_transform(X_train)"
   ]
  },
  {
   "cell_type": "code",
   "execution_count": 36,
   "metadata": {},
   "outputs": [
    {
     "data": {
      "text/plain": [
       "array([[0.03571429, 0.10769231, 0.11764706, 0.65789474],\n",
       "       [0.35714286, 0.49230769, 0.47058824, 0.13157895],\n",
       "       [0.32857143, 0.55384615, 0.5       , 0.47368421],\n",
       "       [0.5       , 0.95384615, 0.44117647, 0.42105263],\n",
       "       [0.01428571, 0.04615385, 0.        , 0.57894737],\n",
       "       [0.36428571, 0.58461538, 0.38235294, 0.97368421],\n",
       "       [0.22857143, 0.47692308, 0.44117647, 0.84210526],\n",
       "       [0.15      , 0.61538462, 0.02941176, 0.44736842],\n",
       "       [0.        , 0.        , 0.        , 0.68421053],\n",
       "       [0.14285714, 0.63076923, 0.02941176, 0.47368421],\n",
       "       [0.30714286, 0.47692308, 0.5       , 0.73684211],\n",
       "       [1.        , 0.8       , 1.        , 0.52631579],\n",
       "       [0.14285714, 0.69230769, 0.08823529, 0.42105263],\n",
       "       [0.28571429, 0.52307692, 0.47058824, 0.76315789],\n",
       "       [0.32142857, 0.50769231, 0.32352941, 1.        ],\n",
       "       [0.3       , 0.55384615, 0.38235294, 0.55263158],\n",
       "       [0.29285714, 0.58461538, 0.41176471, 0.57894737],\n",
       "       [0.41428571, 0.50769231, 0.76470588, 0.        ],\n",
       "       [0.15714286, 0.67692308, 0.05882353, 0.5       ],\n",
       "       [0.02857143, 0.09230769, 0.05882353, 0.63157895],\n",
       "       [0.34285714, 0.46153846, 0.47058824, 0.89473684],\n",
       "       [0.40714286, 0.63076923, 0.5       , 0.5       ],\n",
       "       [0.14285714, 0.53846154, 0.05882353, 0.44736842],\n",
       "       [0.19285714, 0.64615385, 0.05882353, 0.42105263],\n",
       "       [0.31428571, 0.56923077, 0.44117647, 0.39473684],\n",
       "       [0.29285714, 0.53846154, 0.38235294, 0.63157895],\n",
       "       [0.33571429, 0.6       , 0.52941176, 0.86842105],\n",
       "       [0.28571429, 0.53846154, 0.52941176, 0.31578947],\n",
       "       [0.30714286, 0.49230769, 0.47058824, 0.78947368],\n",
       "       [0.24285714, 0.52307692, 0.29411765, 0.52631579],\n",
       "       [0.34285714, 0.55384615, 0.38235294, 0.97368421],\n",
       "       [0.27857143, 0.49230769, 0.41176471, 0.71052632],\n",
       "       [0.27857143, 0.50769231, 0.44117647, 0.63157895],\n",
       "       [0.44285714, 1.        , 0.44117647, 0.44736842],\n",
       "       [0.28571429, 0.47692308, 0.55882353, 0.36842105],\n",
       "       [0.27857143, 0.53846154, 0.38235294, 0.60526316],\n",
       "       [0.01428571, 0.04615385, 0.02941176, 0.68421053],\n",
       "       [0.45714286, 0.8       , 0.5       , 0.57894737],\n",
       "       [0.95      , 0.83076923, 0.94117647, 0.52631579],\n",
       "       [0.14285714, 0.56923077, 0.14705882, 0.44736842],\n",
       "       [0.26428571, 0.6       , 0.38235294, 0.52631579],\n",
       "       [0.42142857, 0.96923077, 0.41176471, 0.39473684],\n",
       "       [0.3       , 0.53846154, 0.5       , 0.81578947],\n",
       "       [0.47857143, 0.61538462, 0.58823529, 0.71052632]])"
      ]
     },
     "execution_count": 36,
     "metadata": {},
     "output_type": "execute_result"
    }
   ],
   "source": [
    "X_train"
   ]
  },
  {
   "cell_type": "code",
   "execution_count": 37,
   "metadata": {},
   "outputs": [],
   "source": [
    "#transfomando os dados de acordo com a escala\n",
    "X_test = mm.transform(X_test)"
   ]
  },
  {
   "cell_type": "code",
   "execution_count": 38,
   "metadata": {},
   "outputs": [
    {
     "data": {
      "text/plain": [
       "array([[0.22857143, 0.47692308, 0.26470588, 0.44736842],\n",
       "       [0.42857143, 0.87692308, 0.44117647, 0.44736842],\n",
       "       [0.37142857, 0.43076923, 0.64705882, 0.10526316],\n",
       "       [0.39285714, 0.8       , 0.41176471, 0.44736842],\n",
       "       [0.37142857, 0.64615385, 0.52941176, 0.63157895],\n",
       "       [0.35      , 0.93846154, 0.44117647, 0.44736842],\n",
       "       [0.3       , 0.52307692, 0.35294118, 0.68421053],\n",
       "       [0.2       , 0.72307692, 0.        , 0.47368421],\n",
       "       [0.15      , 0.63076923, 0.08823529, 0.39473684],\n",
       "       [0.27142857, 0.50769231, 0.52941176, 0.36842105],\n",
       "       [0.27857143, 0.47692308, 0.35294118, 0.86842105],\n",
       "       [0.31428571, 0.46153846, 0.41176471, 0.65789474],\n",
       "       [0.23571429, 0.58461538, 0.52941176, 0.52631579],\n",
       "       [1.02142857, 0.8       , 1.11764706, 0.5       ],\n",
       "       [0.27142857, 0.69230769, 0.20588235, 0.44736842]])"
      ]
     },
     "execution_count": 38,
     "metadata": {},
     "output_type": "execute_result"
    }
   ],
   "source": [
    "X_test"
   ]
  },
  {
   "cell_type": "code",
   "execution_count": 39,
   "metadata": {},
   "outputs": [],
   "source": [
    "knn = KNeighborsClassifier(n_neighbors=3)"
   ]
  },
  {
   "cell_type": "code",
   "execution_count": 40,
   "metadata": {},
   "outputs": [
    {
     "data": {
      "text/plain": [
       "KNeighborsClassifier(n_neighbors=3)"
      ]
     },
     "execution_count": 40,
     "metadata": {},
     "output_type": "execute_result"
    }
   ],
   "source": [
    "knn.fit(X_train, y_train)"
   ]
  },
  {
   "cell_type": "code",
   "execution_count": 41,
   "metadata": {},
   "outputs": [
    {
     "data": {
      "text/plain": [
       "1.0"
      ]
     },
     "execution_count": 41,
     "metadata": {},
     "output_type": "execute_result"
    }
   ],
   "source": [
    "#função score compara os dados de teste com o rótulo\n",
    "knn.score(X_test, y_test)"
   ]
  },
  {
   "cell_type": "code",
   "execution_count": 42,
   "metadata": {},
   "outputs": [
    {
     "data": {
      "text/plain": [
       "array([3, 4, 1, 4, 3, 4, 3, 4, 4, 1, 1, 3, 3, 3, 4], dtype=int64)"
      ]
     },
     "execution_count": 42,
     "metadata": {},
     "output_type": "execute_result"
    }
   ],
   "source": [
    "#retorna os dados de teste de acordo com a classe a qual ela pertence\n",
    "knn.predict(X_test)"
   ]
  },
  {
   "cell_type": "code",
   "execution_count": 43,
   "metadata": {},
   "outputs": [
    {
     "data": {
      "text/plain": [
       "28    3\n",
       "47    4\n",
       "1     1\n",
       "45    4\n",
       "41    3\n",
       "48    4\n",
       "29    3\n",
       "49    4\n",
       "58    4\n",
       "14    1\n",
       "12    1\n",
       "32    3\n",
       "34    3\n",
       "26    3\n",
       "57    4\n",
       "Name: fruit_label, dtype: int64"
      ]
     },
     "execution_count": 43,
     "metadata": {},
     "output_type": "execute_result"
    }
   ],
   "source": [
    "#rótulos de teste\n",
    "y_test"
   ]
  },
  {
   "cell_type": "markdown",
   "metadata": {},
   "source": [
    "# KNN para Regressão"
   ]
  },
  {
   "cell_type": "code",
   "execution_count": 46,
   "metadata": {},
   "outputs": [],
   "source": [
    "from sklearn.neighbors import KNeighborsRegressor\n",
    "from sklearn.datasets import load_boston"
   ]
  },
  {
   "cell_type": "code",
   "execution_count": 45,
   "metadata": {},
   "outputs": [],
   "source": [
    "knn_r = KNeighborsRegressor(n_neighbors=3)"
   ]
  },
  {
   "cell_type": "code",
   "execution_count": 47,
   "metadata": {},
   "outputs": [],
   "source": [
    "data_boston = load_boston()"
   ]
  },
  {
   "cell_type": "code",
   "execution_count": 49,
   "metadata": {},
   "outputs": [],
   "source": [
    "X, y = load_boston(return_X_y=True)"
   ]
  },
  {
   "cell_type": "code",
   "execution_count": null,
   "metadata": {},
   "outputs": [],
   "source": []
  }
 ],
 "metadata": {
  "kernelspec": {
   "display_name": "Python 3",
   "language": "python",
   "name": "python3"
  },
  "language_info": {
   "codemirror_mode": {
    "name": "ipython",
    "version": 3
   },
   "file_extension": ".py",
   "mimetype": "text/x-python",
   "name": "python",
   "nbconvert_exporter": "python",
   "pygments_lexer": "ipython3",
   "version": "3.8.3"
  }
 },
 "nbformat": 4,
 "nbformat_minor": 4
}
